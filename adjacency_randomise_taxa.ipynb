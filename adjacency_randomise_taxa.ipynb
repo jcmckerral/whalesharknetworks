{
 "cells": [
  {
   "cell_type": "markdown",
   "metadata": {},
   "source": [
    "# Bootstraps of network statistics on deg. preserved randomised networks\n",
    "Randomises the adjacency matrices and returns diameter, transitivity etc"
   ]
  },
  {
   "cell_type": "code",
   "execution_count": 1,
   "metadata": {},
   "outputs": [
    {
     "name": "stderr",
     "output_type": "stream",
     "text": [
      "<ipython-input-1-0a63885d2807>:17: MatplotlibDeprecationWarning: \n",
      "The mpl_toolkits.axes_grid module was deprecated in Matplotlib 2.1 and will be removed two minor releases later. Use mpl_toolkits.axes_grid1 and mpl_toolkits.axisartist, which provide the same functionality instead.\n",
      "  from mpl_toolkits.axes_grid.inset_locator import inset_axes\n"
     ]
    }
   ],
   "source": [
    "import pandas as pd\n",
    "import numpy as np\n",
    "import networkx as nx\n",
    "import networkx.algorithms.community as nx_comm\n",
    "\n",
    "import random \n",
    "from collections import Counter\n",
    "from scipy import stats\n",
    "import pickle as pkl\n",
    "import math\n",
    "\n",
    "\n",
    "\n",
    "import matplotlib as mpl\n",
    "import matplotlib.pylab as plt\n",
    "import seaborn as sns\n",
    "from mpl_toolkits.axes_grid.inset_locator import inset_axes\n",
    "# sns.set_style('white')\n",
    "sns.set_style(\"ticks\")\n",
    "\n",
    "\n",
    "# ConstDegRand is from Ben Maier's github page, saved me from having to do the work!\n",
    "# the configuration model can create self loops and parallel edges - this code ensures\n",
    "# that doesn't happen. Made some small edits so code was compatible with python 3.x\n",
    "from ConstDegRand import get_degree_preserving_randomization\n"
   ]
  },
  {
   "cell_type": "markdown",
   "metadata": {},
   "source": [
    "### Import colours"
   ]
  },
  {
   "cell_type": "code",
   "execution_count": 2,
   "metadata": {},
   "outputs": [],
   "source": [
    "cname =['rose' ,'indigo' ,'sand' ,'green' ,'cyan' ,'wine' ,'teal', 'olive', 'purple' ,'pale_grey', 'black', 'blue']\n",
    "chex = ['#CC6677', '#332288', '#DDCC77', '#117733', '#88CCEE',\n",
    "        '#882255', '#44AA99', '#999933', '#AA4499', '#DDDDDD',\n",
    "        '#000000', '#4477AA']\n",
    "\n",
    "cdict = dict(zip(cname,chex))"
   ]
  },
  {
   "cell_type": "markdown",
   "metadata": {},
   "source": [
    "### Create figure settings"
   ]
  },
  {
   "cell_type": "code",
   "execution_count": 3,
   "metadata": {},
   "outputs": [
    {
     "name": "stderr",
     "output_type": "stream",
     "text": [
      "<ipython-input-3-c827297909a9>:10: MatplotlibDeprecationWarning: Support for setting the 'text.latex.preamble' or 'pgf.preamble' rcParam to a list of strings is deprecated since 3.3 and will be removed two minor releases later; set it to a single string instead.\n",
      "  mpl.rcParams['text.latex.preamble'] = [r'\\usepackage[cm]{sfmath}']\n"
     ]
    }
   ],
   "source": [
    "fig_width_pt = 521.58  # Get this from LaTeX using \\showthe\\columnwidth\n",
    "inches_per_pt = 1.0/72.27               # Convert pt to inch\n",
    "golden_mean = (np.sqrt(5)-1.0)/2.0         # Aesthetic ratio\n",
    "fig_width = fig_width_pt*inches_per_pt  # width in inches\n",
    "fig_height = fig_width*golden_mean       # height in inches\n",
    "fig_size =  [fig_width,fig_height]\n",
    "params = {'backend': 'ps','axes.labelsize': 7,'font.size': 7,\n",
    "          'legend.fontsize': 7,'xtick.labelsize': 7,'ytick.labelsize': 7,\n",
    "          'text.usetex': True,'figure.figsize': fig_size, 'axes.linewidth':0.3}\n",
    "mpl.rcParams['text.latex.preamble'] = [r'\\usepackage[cm]{sfmath}']\n",
    "mpl.rcParams['font.family'] = 'sans-serif'\n",
    "mpl.rcParams['font.sans-serif'] = 'cm'\n",
    "\n",
    "mpl.rcParams.update(params)"
   ]
  },
  {
   "cell_type": "markdown",
   "metadata": {},
   "source": [
    "### Utility functions"
   ]
  },
  {
   "cell_type": "code",
   "execution_count": 4,
   "metadata": {},
   "outputs": [],
   "source": [
    "# functions I'll be using\n",
    "\n",
    "def get_net_from_adjacency(adj):\n",
    "    \"\"\"Get nx graph\n",
    "    from adjacency matrix\"\"\"\n",
    "    \n",
    "    rows, cols = np.where(adj == 1)\n",
    "    edges = zip(rows.tolist(), cols.tolist())\n",
    "    G = nx.Graph()\n",
    "    G.add_edges_from(edges)\n",
    "    \n",
    "    return G\n",
    "\n",
    "def get_deg_preserved_rand_of_Graph(G):\n",
    "    \"\"\"get degree preserved randomisation\n",
    "    from nx Graph\"\"\"\n",
    "    edges = G.edges()\n",
    "    nodes = G.nodes()\n",
    "\n",
    "    new_edges = get_degree_preserving_randomization(edges)\n",
    "\n",
    "    GRand = nx.Graph()\n",
    "    GRand.add_edges_from(new_edges)\n",
    "    \n",
    "    return GRand\n",
    "\n",
    "def get_randBaseline_stats(G,nboot):\n",
    "    \"\"\"input a graph and number of randomisations you want,\n",
    "    and get bootstrapped stats on random baselines. \n",
    "    Note that diameter can only run on the giant\n",
    "    connected component GCC.\n",
    "    \n",
    "    Transitivity seems to automatically only select the GCC\n",
    "    in networkx but both lists are returned here just in case.\"\"\"\n",
    "    \n",
    "    transitivityList = []\n",
    "    transitivityGCC = []\n",
    "    diameterGCC = []\n",
    "    modularityList = []\n",
    "    \n",
    "    for i in range(0,nboot):\n",
    "        \n",
    "        GRand = get_deg_preserved_rand_of_Graph(G)   \n",
    "        G_cc = sorted(nx.connected_components(GRand), key=len, reverse=True)\n",
    "        GCC = GRand.subgraph(G_cc[0])\n",
    "        \n",
    "        c = list(nx_comm.greedy_modularity_communities(GRand))\n",
    "        modscore = nx_comm.modularity(GRand, c)\n",
    "        \n",
    "        transitivityList += [nx.transitivity(GRand)]\n",
    "        transitivityGCC += [nx.transitivity(GCC)]\n",
    "        diameterGCC += [nx.diameter(GCC)]\n",
    "        modularityList += [modscore]\n",
    "        \n",
    "    return transitivityList, transitivityGCC, diameterGCC, modularityList\n",
    "\n",
    "def get_GCC(G):\n",
    "    \"\"\"can be handy to get the GCC of a graph.\n",
    "    Extra sanity check to confirm that networkx algorithms aren't\n",
    "    being confused by the fact there are multiple connected components\n",
    "    in some of these networks.\"\"\"\n",
    "    \n",
    "    G_cc = sorted(nx.connected_components(G), key=len, reverse=True)\n",
    "    GCC = G.subgraph(G_cc[0])\n",
    "    \n",
    "    return GCC\n",
    "\n",
    "def get_xyKDE(degreesIn):\n",
    "    my_kde = sns.kdeplot(degreesIn, clip=(-0.65,np.max(degreesIn)+1))\n",
    "    \n",
    "    line = my_kde.lines[0]\n",
    "    x, y = line.get_data()\n",
    "    \n",
    "    return x,y\n",
    "\n",
    "def get_ER_pvals_nx(G,p):\n",
    "    \"\"\"input graph, and Erdos-Renyi prob, get boostrapped pvals\n",
    "    \"\"\"\n",
    "    # Get degree dist of graph G\n",
    "    degrees = [val for (node, val) in G.degree()]\n",
    "    \n",
    "    # Create G, p random graph\n",
    "    GER = nx.erdos_renyi_graph(len(degrees),p)\n",
    "    degrees2 = [val for (node, val) in GER.degree()]\n",
    "    \n",
    "    # return the degree dist of the random graph and p value of the kstest\n",
    "    return degrees2, stats.kstest(degrees,degrees2)[1]\n",
    "\n",
    "def get_taxa_intersection_all(x,y,z,a):\n",
    "    \"\"\" Input two lists or vectors, get the intersection \"\"\"\n",
    "    x1 = set(x)\n",
    "    y1 =set(y)\n",
    "    z1= set(z)\n",
    "    a1 = set(a)\n",
    "    \n",
    "    incommon = list(x1.intersection(y1.intersection(z1.intersection(a1))))\n",
    "    \n",
    "    return incommon\n",
    "\n",
    "def get_RG_pvals_nx(G):\n",
    "    \"\"\"input graph, get boostrapped pvals for Gmn graph\n",
    "    \"\"\"\n",
    "    \n",
    "    # Get degree dist of graph G\n",
    "    degrees = [val for (node, val) in G.degree()]\n",
    "    \n",
    "    # Create Gmn graph\n",
    "    GER = nx.gnm_random_graph(len(degrees),G.number_of_edges())\n",
    "    degrees2 = [val for (node, val) in GER.degree()]\n",
    "    \n",
    "    # return the degree dist for the Gmn graph and p value of the kstest\n",
    "    return degrees2, stats.kstest(degrees,degrees2)[1]\n",
    "\n",
    "\n",
    "def getWithinBetweenProp(G):\n",
    "    # Get proportion of eges within and between clusters in the graph\n",
    "    withinProp = []\n",
    "    betweenProp = []\n",
    "    \n",
    "    clustersOfGraph = nx.algorithms.community.modularity_max.greedy_modularity_communities(G)\n",
    "    edgesOfGraph = list(G.edges())\n",
    "\n",
    "    for j in range(0,len(clustersOfGraph)):        \n",
    "            clusterToLookIn = set(clustersOfGraph[j])\n",
    "\n",
    "            withinClust = 0\n",
    "            betweenClust = 0\n",
    "\n",
    "            for i in range(0,len(edgesOfGraph)):\n",
    "                nodePair = edgesOfGraph[i]\n",
    "\n",
    "                if nodePair[0] in clusterToLookIn:\n",
    "                    if nodePair[1] in clusterToLookIn:\n",
    "                        withinClust = withinClust + 1\n",
    "\n",
    "                    else:\n",
    "                        betweenClust = betweenClust +1\n",
    "\n",
    "            withinProp += [withinClust / (withinClust+betweenClust)]\n",
    "            betweenProp += [betweenClust / (withinClust+betweenClust)]\n",
    "            \n",
    "    return withinProp, betweenProp"
   ]
  },
  {
   "cell_type": "markdown",
   "metadata": {},
   "source": [
    "## Run randomisations\n",
    "check statistics against random baselines using a degree preserved randomisation"
   ]
  },
  {
   "cell_type": "code",
   "execution_count": 5,
   "metadata": {},
   "outputs": [],
   "source": [
    "# path to the matrices and number of random networks we want to create\n",
    "initpath = \"./data/adjacency_matrices/taxa/\"\n",
    "\n",
    "# Choose number of randomisations\n",
    "numberRandomisations = 1000"
   ]
  },
  {
   "cell_type": "code",
   "execution_count": 6,
   "metadata": {},
   "outputs": [],
   "source": [
    "# Load cancun\n",
    "cancDf = pd.read_csv(initpath+\"Cancun_adj_taxa_use.csv\", index_col=0)\n",
    "cancunAdj = cancDf.values\n",
    "\n",
    "# get random baseline for the Cancun network\n",
    "G_Canc = get_net_from_adjacency(cancunAdj)\n",
    "Canc_trans, Canc_transGCC, Canc_diamGCC, Canc_modularity = get_randBaseline_stats(G_Canc,numberRandomisations)\n",
    "\n",
    "# get random baseline for the GCC of the Cancun network\n",
    "GCC_Canc = get_GCC(G_Canc)\n",
    "GCC_Canc_trans, GCC_Canc_transGCC, GCC_Canc_diamGCC, GCC_Canc_modularityGCC = get_randBaseline_stats(GCC_Canc,numberRandomisations)\n"
   ]
  },
  {
   "cell_type": "code",
   "execution_count": 7,
   "metadata": {},
   "outputs": [],
   "source": [
    "# Load laPaz\n",
    "laPazDf = pd.read_csv(initpath+\"La_Paz_updated_taxa_adj_use.csv\", index_col=0)\n",
    "laPazAdj = laPazDf.values\n",
    "\n",
    "# get random baseline for the Cancun network\n",
    "G_laPaz = get_net_from_adjacency(laPazAdj)\n",
    "laPaz_trans, laPaz_transGCC, laPaz_diamGCC, laPaz_modularity = get_randBaseline_stats(G_laPaz,numberRandomisations)\n",
    "\n",
    "# get random baseline for the GCC of the Cancun network\n",
    "GCC_laPaz = get_GCC(G_laPaz)\n",
    "GCC_laPaz_trans, GCC_laPaz_transGCC, GCC_laPaz_diamGCC, GCC_laPaz_modularityGCC = get_randBaseline_stats(GCC_laPaz,numberRandomisations)"
   ]
  },
  {
   "cell_type": "code",
   "execution_count": 8,
   "metadata": {},
   "outputs": [],
   "source": [
    "# Load Ningaloo\n",
    "ningDf = pd.read_csv(initpath+\"Ningaloo_adj_taxa_use.csv\", index_col=0)\n",
    "ningAdj = ningDf.values\n",
    "\n",
    "# get random baseline for the Cancun network\n",
    "G_ning = get_net_from_adjacency(ningAdj)\n",
    "ning_trans, ning_transGCC, ning_diamGCC, ning_modularity = get_randBaseline_stats(G_ning,numberRandomisations)\n",
    "\n",
    "# get random baseline for the GCC of the Cancun network\n",
    "GCC_ning = get_GCC(G_ning)\n",
    "GCC_ning_trans, GCC_ning_transGCC, GCC_ning_diamGCC, GCC_ning_modularityGCC = get_randBaseline_stats(GCC_ning,numberRandomisations)"
   ]
  },
  {
   "cell_type": "code",
   "execution_count": 9,
   "metadata": {},
   "outputs": [],
   "source": [
    "# Load Philippines\n",
    "philDf = pd.read_csv(initpath+\"Philippines_adj_taxa_use.csv\", index_col=0)\n",
    "philAdj = philDf.values\n",
    "\n",
    "# get random baseline for the Cancun network\n",
    "G_phil = get_net_from_adjacency(philAdj)\n",
    "phil_trans, phil_transGCC, phil_diamGCC, phil_modularity = get_randBaseline_stats(G_phil,numberRandomisations)\n",
    "\n",
    "# get random baseline for the GCC of the Cancun network\n",
    "GCC_phil = get_GCC(G_phil)\n",
    "GCC_phil_trans, GCC_phil_transGCC, GCC_phil_diamGCC, GCC_phil_modularityGCC = get_randBaseline_stats(GCC_phil,numberRandomisations)"
   ]
  },
  {
   "cell_type": "markdown",
   "metadata": {},
   "source": [
    "### Look at results table (raw - no GCC)"
   ]
  },
  {
   "cell_type": "code",
   "execution_count": 10,
   "metadata": {},
   "outputs": [
    {
     "name": "stdout",
     "output_type": "stream",
     "text": [
      "Network scores on raw networks\n"
     ]
    },
    {
     "data": {
      "text/html": [
       "<div>\n",
       "<style scoped>\n",
       "    .dataframe tbody tr th:only-of-type {\n",
       "        vertical-align: middle;\n",
       "    }\n",
       "\n",
       "    .dataframe tbody tr th {\n",
       "        vertical-align: top;\n",
       "    }\n",
       "\n",
       "    .dataframe thead th {\n",
       "        text-align: right;\n",
       "    }\n",
       "</style>\n",
       "<table border=\"1\" class=\"dataframe\">\n",
       "  <thead>\n",
       "    <tr style=\"text-align: right;\">\n",
       "      <th></th>\n",
       "      <th>Site</th>\n",
       "      <th>Transitivity</th>\n",
       "      <th>Rand trans (mean)</th>\n",
       "      <th>Rand trans (std dev)</th>\n",
       "      <th>Modularity</th>\n",
       "      <th>Rand modularity (mean)</th>\n",
       "      <th>Rand modularity (std)</th>\n",
       "      <th>CI1</th>\n",
       "      <th>CI2</th>\n",
       "    </tr>\n",
       "  </thead>\n",
       "  <tbody>\n",
       "    <tr>\n",
       "      <th>0</th>\n",
       "      <td>Cancun</td>\n",
       "      <td>0.094118</td>\n",
       "      <td>0.025776</td>\n",
       "      <td>0.016176</td>\n",
       "      <td>0.700260</td>\n",
       "      <td>0.659561</td>\n",
       "      <td>0.014881</td>\n",
       "      <td>0.630393</td>\n",
       "      <td>0.688728</td>\n",
       "    </tr>\n",
       "    <tr>\n",
       "      <th>1</th>\n",
       "      <td>laPaz</td>\n",
       "      <td>0.104779</td>\n",
       "      <td>0.024521</td>\n",
       "      <td>0.007812</td>\n",
       "      <td>0.577185</td>\n",
       "      <td>0.500771</td>\n",
       "      <td>0.010424</td>\n",
       "      <td>0.480339</td>\n",
       "      <td>0.521202</td>\n",
       "    </tr>\n",
       "    <tr>\n",
       "      <th>2</th>\n",
       "      <td>Ningaloo</td>\n",
       "      <td>0.120482</td>\n",
       "      <td>0.030410</td>\n",
       "      <td>0.018709</td>\n",
       "      <td>0.711719</td>\n",
       "      <td>0.657242</td>\n",
       "      <td>0.015802</td>\n",
       "      <td>0.626270</td>\n",
       "      <td>0.688215</td>\n",
       "    </tr>\n",
       "    <tr>\n",
       "      <th>3</th>\n",
       "      <td>Philippines</td>\n",
       "      <td>0.138000</td>\n",
       "      <td>0.032727</td>\n",
       "      <td>0.009362</td>\n",
       "      <td>0.600240</td>\n",
       "      <td>0.496171</td>\n",
       "      <td>0.011775</td>\n",
       "      <td>0.473091</td>\n",
       "      <td>0.519250</td>\n",
       "    </tr>\n",
       "  </tbody>\n",
       "</table>\n",
       "</div>"
      ],
      "text/plain": [
       "          Site  Transitivity  Rand trans (mean)  Rand trans (std dev)  \\\n",
       "0       Cancun      0.094118           0.025776              0.016176   \n",
       "1        laPaz      0.104779           0.024521              0.007812   \n",
       "2     Ningaloo      0.120482           0.030410              0.018709   \n",
       "3  Philippines      0.138000           0.032727              0.009362   \n",
       "\n",
       "   Modularity  Rand modularity (mean)  Rand modularity (std)       CI1  \\\n",
       "0    0.700260                0.659561               0.014881  0.630393   \n",
       "1    0.577185                0.500771               0.010424  0.480339   \n",
       "2    0.711719                0.657242               0.015802  0.626270   \n",
       "3    0.600240                0.496171               0.011775  0.473091   \n",
       "\n",
       "        CI2  \n",
       "0  0.688728  \n",
       "1  0.521202  \n",
       "2  0.688215  \n",
       "3  0.519250  "
      ]
     },
     "metadata": {},
     "output_type": "display_data"
    }
   ],
   "source": [
    "columns = ['Site','Transitivity','Rand trans (mean)','Rand trans (std dev)', 'Modularity','Rand modularity (mean)', 'Rand modularity (std)']\n",
    "\n",
    "fullNetworks = pd.DataFrame(columns=columns)\n",
    "\n",
    "c = nx_comm.greedy_modularity_communities(G_Canc)\n",
    "cancOut = ['Cancun',nx.transitivity(G_Canc), np.mean(Canc_trans), np.std(Canc_trans), \n",
    "           nx_comm.modularity(G_Canc,c), np.mean(Canc_modularity), np.std(Canc_modularity)]\n",
    "\n",
    "c = nx_comm.greedy_modularity_communities(G_laPaz)\n",
    "laPazOut = ['laPaz',nx.transitivity(G_laPaz), np.mean(laPaz_trans), np.std(laPaz_trans),\n",
    "           nx_comm.modularity(G_laPaz,c), np.mean(laPaz_modularity), np.std(laPaz_modularity)]\n",
    "\n",
    "c = nx_comm.greedy_modularity_communities(G_ning)\n",
    "ningOut = ['Ningaloo',nx.transitivity(G_ning), np.mean(ning_trans), np.std(ning_trans),\n",
    "          nx_comm.modularity(G_ning,c), np.mean(ning_modularity), np.std(ning_modularity)]\n",
    "\n",
    "c = nx_comm.greedy_modularity_communities(G_phil)\n",
    "philOut = ['Philippines',nx.transitivity(G_phil),  np.mean(phil_trans), np.std(phil_trans),\n",
    "          nx_comm.modularity(G_phil,c), np.mean(phil_modularity), np.std(phil_modularity)]\n",
    "\n",
    "cancDict = dict(zip(columns,cancOut))\n",
    "laPazDict = dict(zip(columns,laPazOut))\n",
    "ningDict = dict(zip(columns,ningOut))\n",
    "philDict = dict(zip(columns,philOut))\n",
    "\n",
    "fullNetworks = fullNetworks.append(cancDict,ignore_index=True)\n",
    "fullNetworks = fullNetworks.append(laPazDict,ignore_index=True)\n",
    "fullNetworks = fullNetworks.append(ningDict,ignore_index=True)\n",
    "fullNetworks = fullNetworks.append(philDict,ignore_index=True)\n",
    "fullNetworks['CI1'] = fullNetworks['Rand modularity (mean)'] - 1.96*fullNetworks['Rand modularity (std)']\n",
    "fullNetworks['CI2'] = fullNetworks['Rand modularity (mean)'] + 1.96*fullNetworks['Rand modularity (std)']\n",
    "\n",
    "print('Network scores on raw networks')\n",
    "display(fullNetworks)\n",
    "# fullNetworks.to_csv('./results/taxa_scores_onRaw.txt', sep='\\t', index=False)"
   ]
  },
  {
   "cell_type": "markdown",
   "metadata": {},
   "source": [
    "### Look at results for giant connected components"
   ]
  },
  {
   "cell_type": "code",
   "execution_count": 11,
   "metadata": {},
   "outputs": [
    {
     "name": "stdout",
     "output_type": "stream",
     "text": [
      "results for GCCs\n"
     ]
    },
    {
     "data": {
      "text/html": [
       "<div>\n",
       "<style scoped>\n",
       "    .dataframe tbody tr th:only-of-type {\n",
       "        vertical-align: middle;\n",
       "    }\n",
       "\n",
       "    .dataframe tbody tr th {\n",
       "        vertical-align: top;\n",
       "    }\n",
       "\n",
       "    .dataframe thead th {\n",
       "        text-align: right;\n",
       "    }\n",
       "</style>\n",
       "<table border=\"1\" class=\"dataframe\">\n",
       "  <thead>\n",
       "    <tr style=\"text-align: right;\">\n",
       "      <th></th>\n",
       "      <th>Site (GCCs)</th>\n",
       "      <th>Transitivity</th>\n",
       "      <th>Randomised Transitivity (mean)</th>\n",
       "      <th>Randomised Transitivity (std)</th>\n",
       "      <th>Diameter</th>\n",
       "      <th>Randomised Diameter (mean)</th>\n",
       "      <th>Randomised Diameted (std)</th>\n",
       "      <th>Modularity</th>\n",
       "      <th>Rand modularity (mean)</th>\n",
       "      <th>Rand modularity (std)</th>\n",
       "      <th>CI1</th>\n",
       "      <th>CI2</th>\n",
       "    </tr>\n",
       "  </thead>\n",
       "  <tbody>\n",
       "    <tr>\n",
       "      <th>0</th>\n",
       "      <td>Cancun</td>\n",
       "      <td>0.094118</td>\n",
       "      <td>0.025798</td>\n",
       "      <td>0.016216</td>\n",
       "      <td>14</td>\n",
       "      <td>12.879</td>\n",
       "      <td>1.573010</td>\n",
       "      <td>0.693489</td>\n",
       "      <td>0.644588</td>\n",
       "      <td>0.015188</td>\n",
       "      <td>0.614819</td>\n",
       "      <td>0.674357</td>\n",
       "    </tr>\n",
       "    <tr>\n",
       "      <th>1</th>\n",
       "      <td>laPaz</td>\n",
       "      <td>0.104779</td>\n",
       "      <td>0.024521</td>\n",
       "      <td>0.007812</td>\n",
       "      <td>9</td>\n",
       "      <td>8.451</td>\n",
       "      <td>0.741349</td>\n",
       "      <td>0.577185</td>\n",
       "      <td>0.500819</td>\n",
       "      <td>0.010659</td>\n",
       "      <td>0.479928</td>\n",
       "      <td>0.521710</td>\n",
       "    </tr>\n",
       "    <tr>\n",
       "      <th>2</th>\n",
       "      <td>Ningaloo</td>\n",
       "      <td>0.125523</td>\n",
       "      <td>0.030500</td>\n",
       "      <td>0.018820</td>\n",
       "      <td>12</td>\n",
       "      <td>12.705</td>\n",
       "      <td>1.748707</td>\n",
       "      <td>0.667484</td>\n",
       "      <td>0.606662</td>\n",
       "      <td>0.017529</td>\n",
       "      <td>0.572306</td>\n",
       "      <td>0.641019</td>\n",
       "    </tr>\n",
       "    <tr>\n",
       "      <th>3</th>\n",
       "      <td>Philippines</td>\n",
       "      <td>0.138000</td>\n",
       "      <td>0.032722</td>\n",
       "      <td>0.009366</td>\n",
       "      <td>10</td>\n",
       "      <td>8.771</td>\n",
       "      <td>0.883493</td>\n",
       "      <td>0.600240</td>\n",
       "      <td>0.496776</td>\n",
       "      <td>0.011577</td>\n",
       "      <td>0.474085</td>\n",
       "      <td>0.519467</td>\n",
       "    </tr>\n",
       "  </tbody>\n",
       "</table>\n",
       "</div>"
      ],
      "text/plain": [
       "   Site (GCCs)  Transitivity  Randomised Transitivity (mean)  \\\n",
       "0       Cancun      0.094118                        0.025798   \n",
       "1        laPaz      0.104779                        0.024521   \n",
       "2     Ningaloo      0.125523                        0.030500   \n",
       "3  Philippines      0.138000                        0.032722   \n",
       "\n",
       "   Randomised Transitivity (std) Diameter  Randomised Diameter (mean)  \\\n",
       "0                       0.016216       14                      12.879   \n",
       "1                       0.007812        9                       8.451   \n",
       "2                       0.018820       12                      12.705   \n",
       "3                       0.009366       10                       8.771   \n",
       "\n",
       "   Randomised Diameted (std)  Modularity  Rand modularity (mean)  \\\n",
       "0                   1.573010    0.693489                0.644588   \n",
       "1                   0.741349    0.577185                0.500819   \n",
       "2                   1.748707    0.667484                0.606662   \n",
       "3                   0.883493    0.600240                0.496776   \n",
       "\n",
       "   Rand modularity (std)       CI1       CI2  \n",
       "0               0.015188  0.614819  0.674357  \n",
       "1               0.010659  0.479928  0.521710  \n",
       "2               0.017529  0.572306  0.641019  \n",
       "3               0.011577  0.474085  0.519467  "
      ]
     },
     "metadata": {},
     "output_type": "display_data"
    }
   ],
   "source": [
    "columns = ['Site (GCCs)','Transitivity','Randomised Transitivity (mean)', 'Randomised Transitivity (std)',\n",
    "          'Diameter','Randomised Diameter (mean)', 'Randomised Diameted (std)',\n",
    "          'Modularity','Rand modularity (mean)', 'Rand modularity (std)']\n",
    "\n",
    "networkGCCsDf = pd.DataFrame(columns=columns)\n",
    "\n",
    "c = nx_comm.greedy_modularity_communities(GCC_Canc)\n",
    "cancOut = ['Cancun',nx.transitivity(GCC_Canc), np.mean(Canc_transGCC),np.std(Canc_transGCC),  \n",
    "           nx.diameter(GCC_Canc), np.mean(Canc_diamGCC), np.std(Canc_diamGCC),\n",
    "           nx_comm.modularity(GCC_Canc,c), np.mean(GCC_Canc_modularityGCC), np.std(GCC_Canc_modularityGCC)]\n",
    "\n",
    "c = nx_comm.greedy_modularity_communities(GCC_laPaz)\n",
    "laPazOut = ['laPaz',nx.transitivity(GCC_laPaz), np.mean(laPaz_transGCC),np.std(laPaz_transGCC),  \n",
    "            nx.diameter(GCC_laPaz), np.mean(laPaz_diamGCC), np.std(laPaz_diamGCC),\n",
    "            nx_comm.modularity(GCC_laPaz,c), np.mean(GCC_laPaz_modularityGCC), np.std(GCC_laPaz_modularityGCC)]\n",
    "\n",
    "c = nx_comm.greedy_modularity_communities(GCC_ning)\n",
    "ningOut = ['Ningaloo',nx.transitivity(GCC_ning), np.mean(ning_transGCC),np.std(ning_transGCC),  \n",
    "           nx.diameter(GCC_ning), np.mean(ning_diamGCC), np.std(ning_diamGCC),\n",
    "           nx_comm.modularity(GCC_ning,c), np.mean(GCC_ning_modularityGCC), np.std(GCC_ning_modularityGCC)]\n",
    "\n",
    "c = nx_comm.greedy_modularity_communities(GCC_phil)\n",
    "philOut = ['Philippines',nx.transitivity(GCC_phil), np.mean(phil_transGCC),np.std(phil_transGCC),  \n",
    "           nx.diameter(GCC_phil), np.mean(phil_diamGCC), np.std(phil_diamGCC),\n",
    "           nx_comm.modularity(GCC_phil,c), np.mean(GCC_phil_modularityGCC), np.std(GCC_phil_modularityGCC)]\n",
    "\n",
    "cancDict = dict(zip(columns,cancOut))\n",
    "laPazDict = dict(zip(columns,laPazOut))\n",
    "ningDict = dict(zip(columns,ningOut))\n",
    "philDict = dict(zip(columns,philOut))\n",
    "\n",
    "networkGCCsDf = networkGCCsDf.append(cancDict,ignore_index=True)\n",
    "networkGCCsDf = networkGCCsDf.append(laPazDict,ignore_index=True)\n",
    "networkGCCsDf = networkGCCsDf.append(ningDict,ignore_index=True)\n",
    "networkGCCsDf = networkGCCsDf.append(philDict,ignore_index=True)\n",
    "networkGCCsDf['CI1'] = networkGCCsDf['Rand modularity (mean)'] - 1.96*networkGCCsDf['Rand modularity (std)']\n",
    "networkGCCsDf['CI2'] = networkGCCsDf['Rand modularity (mean)'] + 1.96*networkGCCsDf['Rand modularity (std)']\n",
    "\n",
    "print('results for GCCs')\n",
    "display(networkGCCsDf)\n",
    "\n",
    "# networkGCCsDf.to_csv('./results/taxa_scores_onGCC.txt', sep='\\t', index=False)"
   ]
  },
  {
   "cell_type": "markdown",
   "metadata": {},
   "source": [
    "### Check how many links are within and between clusters\n",
    "As well as the modularity scores, check how many links are there within and between clusters"
   ]
  },
  {
   "cell_type": "code",
   "execution_count": 12,
   "metadata": {},
   "outputs": [],
   "source": [
    "wbCanc, bCanc = getWithinBetweenProp(GCC_Canc)\n",
    "wbLaPaz, bLap = getWithinBetweenProp(GCC_laPaz)\n",
    "wbPhil, bPhil = getWithinBetweenProp(GCC_phil)\n",
    "wbNing, bNing = getWithinBetweenProp(GCC_ning)"
   ]
  },
  {
   "cell_type": "markdown",
   "metadata": {},
   "source": [
    "### Plot results"
   ]
  },
  {
   "cell_type": "code",
   "execution_count": 13,
   "metadata": {},
   "outputs": [
    {
     "data": {
      "image/png": "[encoded data removed]",
      "text/plain": [
       "<Figure size 259.816x160.575 with 1 Axes>"
      ]
     },
     "metadata": {},
     "output_type": "display_data"
    }
   ],
   "source": [
    "withinBetweenDf = pd.DataFrame([wbCanc,wbLaPaz,wbPhil,wbNing]).T\n",
    "withinBetweenDf.rename(columns={0:'Cancun',1:'Lapaz',2:'Philippines',3:'Ningaloo'}, inplace=True)\n",
    "withinBetweenDf = pd.melt(withinBetweenDf)\n",
    "\n",
    "# Get the colour order\n",
    "colOrder = ['rose','teal','blue','sand']\n",
    "\n",
    "my_pal = {\"Cancun\": cdict.get(colOrder[3]), \"Lapaz\": cdict.get(colOrder[2]), \n",
    "          \"Philippines\":cdict.get(colOrder[1]),\"Ningaloo\":cdict.get(colOrder[0])}\n",
    "\n",
    "fig, ax = plt.subplots(1,1,figsize=(0.5*fig_width,0.5*fig_height))\n",
    "sns.boxplot(x='variable',y='value', data=withinBetweenDf, palette=my_pal)\n",
    "\n",
    "ax.set(ylabel='proportion of edges within cluster', xlabel='')\n",
    "plt.setp(ax.get_xticklabels(), ha=\"right\", rotation=45)\n",
    "\n",
    "plt.tight_layout()\n",
    "plt.show()\n",
    "\n",
    "# fig.savefig('./figures/withinClustBoxplot_taxa.png', dpi=200)"
   ]
  },
  {
   "cell_type": "markdown",
   "metadata": {},
   "source": [
    "## Get KDE estimates for each random graph\n",
    "\n",
    "### NB Results have been saved for the impatient; they can simply be imported several cells below instead of running the bootstraps.\n",
    "\n",
    "Here we bootstrap the kde fits using seaborn's default settings (clipping at -0.5, maxdegree). In theory it would be best to use scipy here however the scipy library did not have the clip option, and I didn't want to manually input bandwidth settings. It is slow/inefficient, decrease the number of bootstraps to <1000 to speed up.\n",
    "\n",
    "\n",
    "Note that max likelihood fits gave Erdos-Renyi G(n,p) graph parameters of 0.027 for the Philippines, 0.0247 for Cancun, 0.023 for laPaz, 0.026 for Ningaloo"
   ]
  },
  {
   "cell_type": "code",
   "execution_count": 14,
   "metadata": {},
   "outputs": [],
   "source": [
    "# Choose number of bootstraps\n",
    "numberBoots = 5000 \n",
    "\n",
    "# Initiate master lists\n",
    "degreeDistEmpList = []\n",
    "pvalAllSiteList = []\n",
    "dfList = []"
   ]
  },
  {
   "cell_type": "markdown",
   "metadata": {},
   "source": [
    "### Inner loop: Now generate the degree dists and KS test p-values"
   ]
  },
  {
   "cell_type": "code",
   "execution_count": 15,
   "metadata": {},
   "outputs": [],
   "source": [
    "allGraphs = [G_Canc, G_phil, G_laPaz, G_ning]\n",
    "\n",
    "# Choose graph of interest (for example G_laPaz)\n",
    "# We ran in this order - 'Cancun','Philppines','Lapaz','Ningaloo'\n",
    "graphToUse = allGraphs[0]\n",
    "\n",
    "# Get the empirical degree dist\n",
    "degrees = [val for (node, val) in graphToUse.degree()]\n",
    "\n",
    "# Add to the master list\n",
    "degreeDistEmpList += [degrees]"
   ]
  },
  {
   "cell_type": "markdown",
   "metadata": {},
   "source": [
    "#### Generate some random graphs\n",
    "Check whether an ensemble of Erdos-Renyi graphs have a significantly different degree distribution to our real-world graphs (two sample, two-tailed KS test).\n",
    "\n",
    "Degree list has a list of lists for degree distributions for n=numboot graphs."
   ]
  },
  {
   "cell_type": "code",
   "execution_count": 16,
   "metadata": {},
   "outputs": [],
   "source": [
    "degreeList = []\n",
    "pvalList = []\n",
    "    \n",
    "for i in range(0,numberBoots):\n",
    "    degrees2, pval = get_RG_pvals_nx(graphToUse)\n",
    "    degreeList += [degrees2]\n",
    "    pvalList += [pval]\n",
    "    \n",
    "pvalAllSiteList += [pvalList]"
   ]
  },
  {
   "cell_type": "markdown",
   "metadata": {},
   "source": [
    "You can use a G np graph instead if you wish for qualitatively consistent results, uncomment below. example ER param given is for lapaz"
   ]
  },
  {
   "cell_type": "code",
   "execution_count": 17,
   "metadata": {},
   "outputs": [],
   "source": [
    "# ER_param = 0.023\n",
    "# for i in range(0,numberBoots):\n",
    "#     degrees2, pval = get_ER_pvals_nx(graphToUse,ER_param)\n",
    "#     degreeList += [degrees2]\n",
    "#     pvalList += [pval]"
   ]
  },
  {
   "cell_type": "markdown",
   "metadata": {},
   "source": [
    "#### KDE calcs\n",
    "Spits out lists of lists of the x and y co-ordinates for kde estimates on the n=numboot graphs. For example Item 0 in kdeoutx and kdeouty are the x,y coordinates for kde of the degree distribution in the 0th graph in degreeList."
   ]
  },
  {
   "cell_type": "code",
   "execution_count": 18,
   "metadata": {
    "jupyter": {
     "source_hidden": true
    }
   },
   "outputs": [],
   "source": [
    "kdeouty=[]\n",
    "kdeoutx = [] \n",
    "\n",
    "for i in range(0,numberBoots):\n",
    "    x = degreeList[i]\n",
    "    x1, y = get_xyKDE(x)\n",
    "\n",
    "    kdeouty += [list(y)]\n",
    "    kdeoutx += [list(x1)]\n",
    "    plt.close()"
   ]
  },
  {
   "cell_type": "markdown",
   "metadata": {},
   "source": [
    "### Build the output dataframe\n",
    "I want a 95% CI for the output, so here I create 60 bins across the degree range and then take the mean and sd of the KDE values in those bins. \n",
    "\n",
    "Obviously, the real dists have a minimum degree of zero, however we leave this as is for plotting "
   ]
  },
  {
   "cell_type": "code",
   "execution_count": 19,
   "metadata": {},
   "outputs": [
    {
     "data": {
      "text/html": [
       "<div>\n",
       "<style scoped>\n",
       "    .dataframe tbody tr th:only-of-type {\n",
       "        vertical-align: middle;\n",
       "    }\n",
       "\n",
       "    .dataframe tbody tr th {\n",
       "        vertical-align: top;\n",
       "    }\n",
       "\n",
       "    .dataframe thead th {\n",
       "        text-align: right;\n",
       "    }\n",
       "</style>\n",
       "<table border=\"1\" class=\"dataframe\">\n",
       "  <thead>\n",
       "    <tr style=\"text-align: right;\">\n",
       "      <th></th>\n",
       "      <th>degree</th>\n",
       "      <th>kdeval</th>\n",
       "    </tr>\n",
       "  </thead>\n",
       "  <tbody>\n",
       "    <tr>\n",
       "      <th>0</th>\n",
       "      <td>(-1.0, -0.729]</td>\n",
       "      <td>NaN</td>\n",
       "    </tr>\n",
       "    <tr>\n",
       "      <th>1</th>\n",
       "      <td>(-0.729, -0.458]</td>\n",
       "      <td>0.053890</td>\n",
       "    </tr>\n",
       "    <tr>\n",
       "      <th>2</th>\n",
       "      <td>(-0.458, -0.186]</td>\n",
       "      <td>0.075299</td>\n",
       "    </tr>\n",
       "    <tr>\n",
       "      <th>3</th>\n",
       "      <td>(-0.186, 0.0847]</td>\n",
       "      <td>0.099048</td>\n",
       "    </tr>\n",
       "    <tr>\n",
       "      <th>4</th>\n",
       "      <td>(0.0847, 0.356]</td>\n",
       "      <td>0.123418</td>\n",
       "    </tr>\n",
       "  </tbody>\n",
       "</table>\n",
       "</div>"
      ],
      "text/plain": [
       "             degree    kdeval\n",
       "0    (-1.0, -0.729]       NaN\n",
       "1  (-0.729, -0.458]  0.053890\n",
       "2  (-0.458, -0.186]  0.075299\n",
       "3  (-0.186, 0.0847]  0.099048\n",
       "4   (0.0847, 0.356]  0.123418"
      ]
     },
     "execution_count": 19,
     "metadata": {},
     "output_type": "execute_result"
    }
   ],
   "source": [
    "# Create dataframe and bins (start at -1 to be sure of getting all the data)\n",
    "outDf = pd.DataFrame(columns=['degree','kdeval'])\n",
    "bins = np.linspace(-1,15,num=60)\n",
    "\n",
    "# add the KDE x/y coords for each bootstrap \n",
    "for i in range(0,numberBoots):\n",
    "    testDf = pd.DataFrame([kdeoutx[i],kdeouty[i]]).T.rename(columns={0:'degree',1:'kdeval'})\n",
    "    s = pd.cut(testDf['degree'], bins=bins)\n",
    "    testDf = testDf.groupby(s)['kdeval'].mean().reset_index()\n",
    "    outDf = pd.concat([outDf,testDf])\n",
    "\n",
    "# Take a look\n",
    "outDf.head()"
   ]
  },
  {
   "cell_type": "code",
   "execution_count": 20,
   "metadata": {},
   "outputs": [
    {
     "data": {
      "text/html": [
       "<div>\n",
       "<style scoped>\n",
       "    .dataframe tbody tr th:only-of-type {\n",
       "        vertical-align: middle;\n",
       "    }\n",
       "\n",
       "    .dataframe tbody tr th {\n",
       "        vertical-align: top;\n",
       "    }\n",
       "\n",
       "    .dataframe thead th {\n",
       "        text-align: right;\n",
       "    }\n",
       "</style>\n",
       "<table border=\"1\" class=\"dataframe\">\n",
       "  <thead>\n",
       "    <tr style=\"text-align: right;\">\n",
       "      <th></th>\n",
       "      <th>midint</th>\n",
       "      <th>kdeval</th>\n",
       "      <th>stdkde</th>\n",
       "    </tr>\n",
       "  </thead>\n",
       "  <tbody>\n",
       "    <tr>\n",
       "      <th>0</th>\n",
       "      <td>-0.86450</td>\n",
       "      <td>NaN</td>\n",
       "      <td>NaN</td>\n",
       "    </tr>\n",
       "    <tr>\n",
       "      <th>1</th>\n",
       "      <td>-0.59350</td>\n",
       "      <td>0.037649</td>\n",
       "      <td>0.010897</td>\n",
       "    </tr>\n",
       "    <tr>\n",
       "      <th>2</th>\n",
       "      <td>-0.32200</td>\n",
       "      <td>0.056273</td>\n",
       "      <td>0.013401</td>\n",
       "    </tr>\n",
       "    <tr>\n",
       "      <th>3</th>\n",
       "      <td>-0.05065</td>\n",
       "      <td>0.079992</td>\n",
       "      <td>0.014780</td>\n",
       "    </tr>\n",
       "    <tr>\n",
       "      <th>4</th>\n",
       "      <td>0.22035</td>\n",
       "      <td>0.107071</td>\n",
       "      <td>0.013896</td>\n",
       "    </tr>\n",
       "  </tbody>\n",
       "</table>\n",
       "</div>"
      ],
      "text/plain": [
       "    midint    kdeval    stdkde\n",
       "0 -0.86450       NaN       NaN\n",
       "1 -0.59350  0.037649  0.010897\n",
       "2 -0.32200  0.056273  0.013401\n",
       "3 -0.05065  0.079992  0.014780\n",
       "4  0.22035  0.107071  0.013896"
      ]
     },
     "execution_count": 20,
     "metadata": {},
     "output_type": "execute_result"
    }
   ],
   "source": [
    "# Get centre of bins and drop the degree coloumn\n",
    "\n",
    "outDf['midint'] = outDf['degree'].apply(lambda x: x.mid)\n",
    "outDf=outDf.dropna(axis=0, how='any')\n",
    "outDfSummary = outDf.groupby('midint').mean().reset_index()\n",
    "outDfSummary['stdkde'] = outDf.groupby('midint').std().reset_index()['kdeval']\n",
    "\n",
    "# Write to the master list for plotting later\n",
    "dfList += [outDfSummary]\n",
    "\n",
    "# Take a look\n",
    "outDfSummary.head()"
   ]
  },
  {
   "cell_type": "markdown",
   "metadata": {},
   "source": [
    "#### Write KDE plotting results for respective graph"
   ]
  },
  {
   "cell_type": "code",
   "execution_count": 21,
   "metadata": {},
   "outputs": [],
   "source": [
    "# pkl.dump(outDfSummary, open('./data/degree_distribution/cancunKDE_RG_taxa.pkl','wb'))\n",
    "# pkl.dump(outDfSummary, open('./data/degree_distribution/phillipinesKDE_RG_taxa.pkl','wb'))\n",
    "# pkl.dump(outDfSummary, open('./data/degree_distribution/lapazKDE_RG_taxa.pkl','wb'))\n",
    "# pkl.dump(outDfSummary, open('./data/degree_distribution/ningalooKDE_RG_taxa.pkl','wb'))"
   ]
  },
  {
   "cell_type": "markdown",
   "metadata": {},
   "source": [
    "## End of inner loop - run the loop cells again on a different graph "
   ]
  },
  {
   "cell_type": "markdown",
   "metadata": {},
   "source": [
    "Next, after all 4 locations have been run, write results for the master lists for the empirical degree dists and the pvalues for KS tests against the randomised networks"
   ]
  },
  {
   "cell_type": "code",
   "execution_count": 22,
   "metadata": {},
   "outputs": [],
   "source": [
    "# pkl.dump(degreeDistEmpList,open('./data/degree_distribution/degreeDistsEmpList_RG_taxa.pkl','wb'))\n",
    "# pkl.dump(pvalAllSiteList,open('./data/degree_distribution/pvalAllSiteList_RG_taxa.pkl','wb'))"
   ]
  },
  {
   "cell_type": "markdown",
   "metadata": {},
   "source": [
    "## For the impatient, load pre-calculated results"
   ]
  },
  {
   "cell_type": "code",
   "execution_count": 23,
   "metadata": {},
   "outputs": [],
   "source": [
    "outDfSummary1 = pkl.load(open('./data/degree_distribution/cancunKDE_RG_taxa.pkl','rb'))\n",
    "outDfSummary2 = pkl.load(open('./data/degree_distribution/phillipinesKDE_RG_taxa.pkl','rb'))\n",
    "outDfSummary3 = pkl.load(open('./data/degree_distribution/lapazKDE_RG_taxa.pkl','rb'))\n",
    "outDfSummary4 = pkl.load(open('./data/degree_distribution/ningalooKDE_RG_taxa.pkl','rb'))\n",
    "\n",
    "degreeDistsEmpList = pkl.load(open('./data/degree_distribution/degreeDistsEmpList_RG_taxa.pkl','rb'))\n",
    "pvalAllSiteList = pkl.load(open('./data/degree_distribution/pvalAllSiteList_RG_taxa.pkl','rb'))\n",
    "\n",
    "dfList = [outDfSummary1, outDfSummary2,outDfSummary3, outDfSummary4]"
   ]
  },
  {
   "cell_type": "markdown",
   "metadata": {},
   "source": [
    "## Plot the results"
   ]
  },
  {
   "cell_type": "code",
   "execution_count": 24,
   "metadata": {},
   "outputs": [],
   "source": [
    "graphOrder = ['Cancun','Philppines','Lapaz','Ningaloo']\n",
    "colOrder = ['rose','teal','blue','sand']"
   ]
  },
  {
   "cell_type": "code",
   "execution_count": 25,
   "metadata": {},
   "outputs": [
    {
     "data": {
      "image/png": "[encoded data removed]",
      "text/plain": [
       "<Figure size 519.631x144.517 with 4 Axes>"
      ]
     },
     "metadata": {},
     "output_type": "display_data"
    }
   ],
   "source": [
    "fig, ax1 = plt.subplots(1,4,figsize=(fig_width,0.45*fig_height))\n",
    "left, bottom, width, height = [0.7, 0.71, 0.25, 0.25]\n",
    "\n",
    "for i in range(0,4):\n",
    "    ax = ax1[i]\n",
    "    ax2 = ax1[i].inset_axes([left, bottom, width, height])\n",
    "#     ax2 = ax.add_axes([left, bottom, width, height])\n",
    "\n",
    "    ax.plot(dfList[i].midint.values, dfList[i].kdeval.values,\n",
    "            c=cdict.get(colOrder[i]), alpha=0.7,ls='--')\n",
    "\n",
    "    ax.fill_between(dfList[i].midint.values,dfList[i].kdeval.values-1.96*dfList[i].stdkde.values, \n",
    "                     dfList[i].kdeval.values+1.96*dfList[i].stdkde.values,\n",
    "                    color=cdict.get(colOrder[i]),alpha=0.15,lw=0)\n",
    "\n",
    "    sns.kdeplot(degreeDistsEmpList[i], clip=(-1,11), ax=ax, color=cdict.get(colOrder[i]))\n",
    "\n",
    "    sns.kdeplot(pvalAllSiteList[i], ax=ax2, color=cdict.get(colOrder[i]), fill=True)\n",
    "\n",
    "    ax2.axvline(x=0.05,linewidth=1.5,ls='--', color=cdict.get('pale_grey'))\n",
    "    ax2.set(xlabel='$p$-value',xticks=[0,1.05], xticklabels=[0,1])\n",
    "    y_min, y_max = ax2.get_ylim()\n",
    "#     print(y_min,y_max)\n",
    "    ax2.set(yticks=[0, math.ceil(y_max)])\n",
    "    \n",
    "    ax.set(xlabel='Degree',ylabel='',xlim=[-1,13.5],yticks=[0,0.1,0.2,0.3],yticklabels=[], ylim=[-0.02,0.315])\n",
    "#     ax2.spines['bottom'].set_color('red')\n",
    "    ax.tick_params(width=0.5)\n",
    "    ax2.tick_params(width=0.5)\n",
    "\n",
    "ax1[0].annotate(r'101$^*$, 0.70$^{**}$',(0.61,0.35),xycoords='axes fraction')\n",
    "ax1[0].annotate('(0.63,0.69)$^\\circ$',(0.61,0.25),xycoords='axes fraction')\n",
    "\n",
    "ax1[0].annotate(r'2.4$^\\dagger$',(2.8,0),xycoords='data')\n",
    "ax1[0].axvline(x=2.4,linewidth=1.5,ls='--', color=cdict.get('pale_grey'))\n",
    "\n",
    "ax1[1].annotate(r'160$^*$, 0.60$^{**}$',(0.61,0.35),xycoords='axes fraction')\n",
    "ax1[1].annotate('(0.47,0.52)$^\\circ$',(0.61,0.25),xycoords='axes fraction')\n",
    "\n",
    "ax1[1].annotate(r'3.8$^\\dagger$',(4.1,0),xycoords='data')\n",
    "ax1[1].axvline(x=3.8,linewidth=1.5,ls='--', color=cdict.get('pale_grey'))\n",
    "\n",
    "ax1[2].annotate(r'141$^*$, 0.58$^{**}$',(0.61,0.35),xycoords='axes fraction')\n",
    "ax1[2].annotate('(0.48,0.52)$^\\circ$',(0.61,0.25),xycoords='axes fraction')\n",
    "\n",
    "ax1[2].annotate(r'3.9$^\\dagger$',(4.2,0),xycoords='data')\n",
    "ax1[2].axvline(x=3.9,linewidth=1.5,ls='--', color=cdict.get('pale_grey'))\n",
    "\n",
    "ax1[3].annotate(r'101$^*$, 0.71$^{**}$',(0.61,0.35),xycoords='axes fraction')\n",
    "ax1[3].annotate('(0.63,0.69)$^\\circ$',(0.61,0.25),xycoords='axes fraction')\n",
    "\n",
    "ax1[3].annotate(r'2.1$^\\dagger$',(2.4,0),xycoords='data')\n",
    "ax1[3].axvline(x=2.1,linewidth=1.5,ls='--', color=cdict.get('pale_grey'))\n",
    "  \n",
    "ax1[0].set(ylabel='Density')\n",
    "ax1[0].set(yticks=[0,0.1,0.2,0.3],yticklabels=[0,0.1,0.2,0.3])\n",
    "\n",
    "plt.tight_layout()\n",
    "plt.show()\n",
    "\n",
    "# fig.savefig('./figures/degreedistFig_RG_taxa.png',dpi=300)"
   ]
  },
  {
   "cell_type": "markdown",
   "metadata": {},
   "source": [
    "### Node and degree stats for the empirical networks"
   ]
  },
  {
   "cell_type": "code",
   "execution_count": 26,
   "metadata": {},
   "outputs": [
    {
     "name": "stdout",
     "output_type": "stream",
     "text": [
      "the number of nodes in each network is\n"
     ]
    },
    {
     "data": {
      "text/plain": [
       "(101, 141, 160, 108)"
      ]
     },
     "execution_count": 26,
     "metadata": {},
     "output_type": "execute_result"
    }
   ],
   "source": [
    "print('the number of nodes in each network is')\n",
    "len(np.unique(list(cancDf.columns))),len(np.unique(list(philDf.columns))),len(np.unique(list(laPazDf.columns))),len(np.unique(list(ningDf.columns)))"
   ]
  },
  {
   "cell_type": "code",
   "execution_count": 27,
   "metadata": {},
   "outputs": [
    {
     "name": "stdout",
     "output_type": "stream",
     "text": [
      "the average degrees of each network are\n"
     ]
    },
    {
     "data": {
      "text/plain": [
       "(2.396039603960396, 3.8156028368794326, 3.875, 2.111111111111111)"
      ]
     },
     "execution_count": 27,
     "metadata": {},
     "output_type": "execute_result"
    }
   ],
   "source": [
    "print('the average degrees of each network are')\n",
    "np.mean(cancDf.sum()),np.mean(philDf.sum()),np.mean(laPazDf.sum()),np.mean(ningDf.sum())"
   ]
  },
  {
   "cell_type": "markdown",
   "metadata": {},
   "source": [
    "## Code to assign network formatting attributes for import into Gephi\n",
    "\n",
    "Utility functions"
   ]
  },
  {
   "cell_type": "code",
   "execution_count": 28,
   "metadata": {},
   "outputs": [],
   "source": [
    "def getClusters_andwrite(df,graph,label):\n",
    "    \"\"\" import the df for the location, its graph, and a string\n",
    "    for the location that will write to file\"\"\"\n",
    "    names = list(df.index)\n",
    "    idx = np.arange(0,len(df.index))\n",
    "    labelDict = dict(zip(idx,names))\n",
    "\n",
    "    c = list(nx.algorithms.community.modularity_max.greedy_modularity_communities(graph))\n",
    "    list(c[0])\n",
    "\n",
    "    with open('./data/clusters/'+label+'_clusters.txt', 'w') as the_file:\n",
    "        for i in range(0,len(c)):\n",
    "            the_file.write(str([labelDict.get(a) for a in list(c[i])])+'\\n')\n",
    "\n",
    "\n",
    "def get_clustlist2(filepath):\n",
    "    file1 = open(filepath, 'r')\n",
    "    idx = 0\n",
    "    list1 = []\n",
    "    list2 = []\n",
    "    for line in file1:     \n",
    "#         lineList = line.rstrip('\\n').split(', ') \n",
    "        lineList = line.rstrip('\\n').strip(']').strip('[').split('\\', ')\n",
    "        lineList = [a.replace(\"'\", \"\") for a in lineList]\n",
    "        lineList\n",
    "#         print(lineList)\n",
    "        list2 += [idx] * len(lineList)\n",
    "        list1 += lineList\n",
    "        idx = idx + 1\n",
    "    \n",
    "    return list1, list2\n",
    "\n",
    "def get_graphml(Graph, ingraphDf, locationString,abund,clusterfile):    \n",
    "    # assign some attributes to a graph to export in graphml format\n",
    "    \n",
    "    abundP = abund[abund['location']==locationString]\n",
    "    abundDict = dict(zip(abundP['family'],abundP['mean.loc.abund']))\n",
    "\n",
    "    GraphDf = pd.DataFrame([list(ingraphDf.reset_index().index), list(ingraphDf.reset_index()['index'])]).T\n",
    "    GraphDf.rename(columns={0:'Id',1:'Label'}, inplace=True)\n",
    "    GraphDf['Label']=GraphDf['Label'].str.strip()\n",
    "    GraphDf['meanabund'] = GraphDf['Label'].map(abundDict)\n",
    "    GraphDf['logmean'] = np.log(GraphDf['meanabund'])\n",
    "    \n",
    "    # open clusters\n",
    "    ClustDf = pd.read_csv('./data/clusters/'+clusterfile, sep='\\t')\n",
    "    ClustDict = dict(zip(ClustDf['family'],ClustDf['clusterID']))\n",
    "    GraphDf['clusterId'] = GraphDf['Label'].map(ClustDict)\n",
    "    GraphDf['clusterId'].fillna(20,inplace=True)\n",
    "    GraphDf['clusterId']=GraphDf['clusterId'].astype(np.int64)\n",
    "    GraphDf['color'] = GraphDf['clusterId'].map(idToCol)\n",
    "    GraphDf['color'].fillna('#000000',inplace=True)\n",
    "    \n",
    "    # Write node label information\n",
    "    GraphDf.to_csv('./results/'+locationString+'GephiNodeLabel.csv', index=False)\n",
    "\n",
    "    # assign colours, node sizes options (mean abundance, log mean abundance, sqrt mean abundance)\n",
    "    colattributedict = dict(zip(GraphDf['Id'], GraphDf['color']))\n",
    "    sizeDict = dict(zip(GraphDf['Id'], GraphDf['meanabund']))\n",
    "    sizeDict2 = dict(zip(GraphDf['Id'], GraphDf['logmean']))\n",
    "    sizeDict3 = dict(zip(GraphDf['Id'], np.sqrt(GraphDf['meanabund'])))\n",
    "\n",
    "    # Assign options to use in Gephi\n",
    "    nx.set_node_attributes(Graph, colattributedict,'col')  \n",
    "    nx.set_node_attributes(Graph, sizeDict,'size')  \n",
    "    nx.set_node_attributes(Graph, sizeDict2,'logsize')  \n",
    "    nx.set_node_attributes(Graph, sizeDict3,'sqrtsize')  \n",
    "    nx.write_graphml(Graph, \"./results/\"+locationString+\"_taxa.graphml\" )\n",
    "    \n",
    "    return ClustDf, GraphDf\n"
   ]
  },
  {
   "cell_type": "markdown",
   "metadata": {},
   "source": [
    "#### Write clusters to a file"
   ]
  },
  {
   "cell_type": "code",
   "execution_count": 29,
   "metadata": {},
   "outputs": [],
   "source": [
    "# getClusters_andwrite(laPazDf,G_laPaz,'lapaz')\n",
    "# getClusters_andwrite(cancDf,G_Canc,'canc')\n",
    "# getClusters_andwrite(philDf,G_phil,'phil')\n",
    "# getClusters_andwrite(ningDf,G_ning,'ningaloo')   \n",
    "\n",
    "lapazClust1, l2 = get_clustlist2('./data/clusters/lapaz_clusters.txt')\n",
    "cancClust1, c2 = get_clustlist2('./data/clusters/canc_clusters.txt')\n",
    "philClust1, p2 = get_clustlist2('./data/clusters/phil_clusters.txt')\n",
    "ningClust1, n2 = get_clustlist2('./data/clusters/ningaloo_clusters.txt')\n",
    "\n",
    "# pd.DataFrame([lapazClust1, l2]).T.rename(columns={0:'family',1:'clusterID'}).to_csv(\n",
    "#     './data/clusters/lapaz_clusters_formatted.txt', sep='\\t',index=None)\n",
    "\n",
    "# pd.DataFrame([ningClust1, n2]).T.rename(columns={0:'family',1:'clusterID'}).to_csv(\n",
    "#     './data/clusters/ning_clusters_formatted.txt', sep='\\t',index=None)\n",
    "\n",
    "# pd.DataFrame([philClust1, p2]).T.rename(columns={0:'family',1:'clusterID'}).to_csv(\n",
    "#     './data/clusters/phil_clusters_formatted.txt', sep='\\t',index=None)\n",
    "\n",
    "# pd.DataFrame([cancClust1, c2]).T.rename(columns={0:'family',1:'clusterID'}).to_csv(\n",
    "#     './data/clusters/canc_clusters_formatted.txt', sep='\\t',index=None)"
   ]
  },
  {
   "cell_type": "markdown",
   "metadata": {},
   "source": [
    "#### Import abundance data, assign colours to clusters, and export in graphml format"
   ]
  },
  {
   "cell_type": "code",
   "execution_count": 30,
   "metadata": {},
   "outputs": [],
   "source": [
    "# Abundance data\n",
    "abund = pd.read_csv('./data/location.taxa.mean.prop.csv')\n",
    "\n",
    "# Colours\n",
    "cols = ['#CC6677', '#332288', '#DDCC77', '#117733', '#88CCEE',\n",
    "        '#882255', '#44AA99', '#999933', '#AA4499', '#CCEEFF',\n",
    "        '#CCDDAA','#DDDDDD','#000000']\n",
    "\n",
    "# assign a certain number of colours \n",
    "ids = np.arange(0,13)\n",
    "idToCol = dict(zip(ids,cols))\n",
    "\n",
    "# write files\n",
    "\n",
    "# get_graphml(G_phil,philDf,'Philippines',abund,'phil_clusters_formatted.txt')\n",
    "# get_graphml(G_Canc,cancDf,'Cancun',abund,'canc_clusters_formatted.txt')\n",
    "# get_graphml(G_laPaz,laPazDf,'Lapaz',abund,'lapaz_clusters_formatted.txt')\n",
    "# get_graphml(G_ning,ningDf,'Ningaloo',abund,'ning_clusters_formatted.txt')"
   ]
  }
 ],
 "metadata": {
  "kernelspec": {
   "display_name": "Python [conda env:root] *",
   "language": "python",
   "name": "conda-root-py"
  },
  "language_info": {
   "codemirror_mode": {
    "name": "ipython",
    "version": 3
   },
   "file_extension": ".py",
   "mimetype": "text/x-python",
   "name": "python",
   "nbconvert_exporter": "python",
   "pygments_lexer": "ipython3",
   "version": "3.8.5"
  }
 },
 "nbformat": 4,
 "nbformat_minor": 4
}
